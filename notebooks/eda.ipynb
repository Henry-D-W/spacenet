{
 "cells": [
  {
   "cell_type": "code",
   "execution_count": 1,
   "metadata": {},
   "outputs": [],
   "source": [
    "import tarfile\n",
    "from PIL import Image"
   ]
  },
  {
   "cell_type": "code",
   "execution_count": 26,
   "metadata": {},
   "outputs": [
    {
     "name": "stdout",
     "output_type": "stream",
     "text": [
      "number of files\n",
      "6941\n"
     ]
    }
   ],
   "source": [
    "filename1 = \"c:/Users/henry/Documents/GitHub/spacenet/data/raw/SN1_buildings_train_AOI_1_Rio_3band.tar.gz\"\n",
    "file_obj = tarfile.open(filename,'r')\n",
    "namelist = file_obj.getnames()\n",
    "print('number of files')\n",
    "all_names = []\n",
    "for name in namelist:\n",
    "    all_names.append(name)\n",
    "print(len(all_names))\n",
    "file_obj.getmembers()\n",
    "file_name1 = '3band/3band_AOI_1_RIO_img6080.tif'\n",
    "#file_name2 = '3band/3band_AOI_1_RIO_img373.tif'\n",
    "file_obj.extract(member=file_name1, path=\"c:/Users/henry/Documents/GitHub/spacenet/data/interim/\")\n",
    "image6080 = 'c:/Users/henry/Documents/GitHub/spacenet/data/interim/3band/3band_AOI_1_RIO_img6080.tif'\n",
    "image373 = 'c:/Users/henry/Documents/GitHub/spacenet/data/interim/3band/3band_AOI_1_RIO_img373.tif '\n",
    "\n",
    "im = Image.open(image373)\n",
    "im.show()"
   ]
  },
  {
   "cell_type": "code",
   "execution_count": 42,
   "metadata": {},
   "outputs": [
    {
     "ename": "ModuleNotFoundError",
     "evalue": "No module named 'rasterio'",
     "output_type": "error",
     "traceback": [
      "\u001b[1;31m---------------------------------------------------------------------------\u001b[0m",
      "\u001b[1;31mModuleNotFoundError\u001b[0m                       Traceback (most recent call last)",
      "\u001b[1;32mUntitled-1.ipynb Cell 3\u001b[0m in \u001b[0;36m<cell line: 1>\u001b[1;34m()\u001b[0m\n\u001b[1;32m----> <a href='vscode-notebook-cell:Untitled-1.ipynb?jupyter-notebook#X22sdW50aXRsZWQ%3D?line=0'>1</a>\u001b[0m \u001b[39mimport\u001b[39;00m \u001b[39mrasterio\u001b[39;00m \u001b[39mas\u001b[39;00m \u001b[39mrio\u001b[39;00m\n",
      "\u001b[1;31mModuleNotFoundError\u001b[0m: No module named 'rasterio'"
     ]
    }
   ],
   "source": [
    "import rasterio as rio"
   ]
  }
 ],
 "metadata": {
  "kernelspec": {
   "display_name": "Python 3.9.12 ('base')",
   "language": "python",
   "name": "python3"
  },
  "language_info": {
   "codemirror_mode": {
    "name": "ipython",
    "version": 3
   },
   "file_extension": ".py",
   "mimetype": "text/x-python",
   "name": "python",
   "nbconvert_exporter": "python",
   "pygments_lexer": "ipython3",
   "version": "3.9.12"
  },
  "orig_nbformat": 4,
  "vscode": {
   "interpreter": {
    "hash": "f1a4a4f144332a771e00e7433ba769f3488621905bd9605b0b008be2dfad0e0c"
   }
  }
 },
 "nbformat": 4,
 "nbformat_minor": 2
}
